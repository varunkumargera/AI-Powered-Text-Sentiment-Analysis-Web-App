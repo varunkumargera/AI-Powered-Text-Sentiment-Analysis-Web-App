{
 "cells": [
  {
   "cell_type": "markdown",
   "id": "7e6384ec-3e84-477c-a05c-4415a469781f",
   "metadata": {},
   "source": [
    "### Sentiment Analysis Web App"
   ]
  },
  {
   "cell_type": "code",
   "execution_count": 7,
   "id": "2685b05b-c16b-4827-ba29-e3669cf2b99d",
   "metadata": {},
   "outputs": [],
   "source": [
    "# Step 1: Import necessary libraries\n",
    "from transformers import pipeline\n",
    "import gradio as gr\n",
    "import matplotlib.pyplot as plt\n",
    "import io\n"
   ]
  },
  {
   "cell_type": "code",
   "execution_count": 8,
   "id": "5bf7c3ac-1ba9-4420-8f57-48e4167b16cc",
   "metadata": {},
   "outputs": [
    {
     "name": "stderr",
     "output_type": "stream",
     "text": [
      "No model was supplied, defaulted to distilbert/distilbert-base-uncased-finetuned-sst-2-english and revision 714eb0f (https://huggingface.co/distilbert/distilbert-base-uncased-finetuned-sst-2-english).\n",
      "Using a pipeline without specifying a model name and revision in production is not recommended.\n",
      "Device set to use cpu\n",
      "Device set to use cpu\n"
     ]
    }
   ],
   "source": [
    "# Step 2: Load pre-trained Hugging Face pipelines\n",
    "classifier = pipeline(\"sentiment-analysis\")\n",
    "classifier_multilingual = pipeline(\"sentiment-analysis\", model=\"nlptown/bert-base-multilingual-uncased-sentiment\")\n"
   ]
  },
  {
   "cell_type": "code",
   "execution_count": 17,
   "id": "0a3253f2-2b7c-4839-9ece-7936b00ab01c",
   "metadata": {},
   "outputs": [],
   "source": [
    "# Step 3: Core logic for all 6 features\n",
    "def handle_sentiment(text, file, feature):\n",
    "    if feature == \"Sentiment with Confidence\":\n",
    "        result = classifier(text)\n",
    "        label = result[0]['label']\n",
    "        score = result[0]['score']\n",
    "        return f\"Sentiment: {label}, Confidence: {score:.2f}\"\n",
    "\n",
    "    elif feature == \"Sentiment with Emoji\":\n",
    "        result = classifier(text)\n",
    "        label = result[0]['label']\n",
    "        emoji = \"😊\" if label == \"POSITIVE\" else \"😢\" if label == \"NEGATIVE\" else \"😐\"\n",
    "        return f\"Sentiment: {label} {emoji}\"\n",
    "\n",
    "    elif feature == \"Sentiment Multilingual\":\n",
    "        result = classifier_multilingual(text)\n",
    "        return f\"Sentiment: {result[0]['label']}\"\n",
    "\n",
    "    elif feature == \"Sentiment Over Time\":\n",
    "        sentiment_count = {\"POSITIVE\": 0, \"NEGATIVE\": 0, \"NEUTRAL\": 0}\n",
    "        for line in text.strip().split(\"\\n\"):\n",
    "            result = classifier(line)\n",
    "            label = result[0]['label']\n",
    "            sentiment_count[label] += 1\n",
    "        return f\"POSITIVE: {sentiment_count['POSITIVE']}, NEGATIVE: {sentiment_count['NEGATIVE']}, NEUTRAL: {sentiment_count['NEUTRAL']}\"\n",
    "\n",
    "    elif feature == \"Sentiment Visualization\":\n",
    "        sentiment_count = {\"POSITIVE\": 0, \"NEGATIVE\": 0, \"NEUTRAL\": 0}\n",
    "        for line in text.strip().split(\"\\n\"):\n",
    "            result = classifier(line)\n",
    "            label = result[0]['label']\n",
    "            sentiment_count[label] += 1\n",
    "\n",
    "        # Create a bar chart\n",
    "        fig, ax = plt.subplots()\n",
    "        ax.bar(sentiment_count.keys(), sentiment_count.values(), color=['green', 'red', 'gray'])\n",
    "        ax.set_title(\"Sentiment Distribution\")\n",
    "        ax.set_ylabel(\"Count\")\n",
    "        \n",
    "        import tempfile\n",
    "        import os\n",
    "    \n",
    "        # Save image to a temporary file Gradio can read\n",
    "        temp_file = tempfile.NamedTemporaryFile(suffix=\".png\", delete=False)\n",
    "        plt.savefig(temp_file.name, format=\"png\")\n",
    "        plt.close()\n",
    "        return temp_file.name  # Return file path\n",
    "    \n",
    "\n",
    "    elif feature == \"Sentiment File Upload\":\n",
    "        if file is None:\n",
    "            return \"Please upload a .txt file.\"\n",
    "        with open(file.name, \"r\", encoding=\"utf-8\") as f:\n",
    "            content = f.read()\n",
    "        result = classifier(content)\n",
    "        label = result[0]['label']\n",
    "        score = result[0]['score']\n",
    "        return f\"Sentiment: {label}, Confidence: {score:.2f}\"\n",
    "\n",
    "    return \"Unknown feature.\"\n"
   ]
  },
  {
   "cell_type": "code",
   "execution_count": 18,
   "id": "a3e24052-712a-4bc6-b3ad-06aed5977c5b",
   "metadata": {},
   "outputs": [],
   "source": [
    "# Step 4: Define the router that splits text vs image output\n",
    "def router(text, file, feature):\n",
    "    result = handle_sentiment(text, file, feature)\n",
    "    if feature == \"Sentiment Visualization\":\n",
    "        return \"\", result  # No text, return image\n",
    "    else:\n",
    "        return result, None  # Text, no image\n"
   ]
  },
  {
   "cell_type": "code",
   "execution_count": 21,
   "id": "b7de239f-c6e1-454c-bf24-6292cf37615e",
   "metadata": {},
   "outputs": [
    {
     "name": "stdout",
     "output_type": "stream",
     "text": [
      "* Running on local URL:  http://127.0.0.1:7864\n",
      "* To create a public link, set `share=True` in `launch()`.\n"
     ]
    },
    {
     "data": {
      "text/html": [
       "<div><iframe src=\"http://127.0.0.1:7864/\" width=\"100%\" height=\"500\" allow=\"autoplay; camera; microphone; clipboard-read; clipboard-write;\" frameborder=\"0\" allowfullscreen></iframe></div>"
      ],
      "text/plain": [
       "<IPython.core.display.HTML object>"
      ]
     },
     "metadata": {},
     "output_type": "display_data"
    },
    {
     "data": {
      "text/plain": []
     },
     "execution_count": 21,
     "metadata": {},
     "output_type": "execute_result"
    }
   ],
   "source": [
    "# Step 5: Build the Gradio interface\n",
    "with gr.Blocks() as demo:\n",
    "    gr.Markdown(\"## 🧠 Sentiment Analysis Web App\")\n",
    "\n",
    "    feature_choice = gr.Radio(\n",
    "        [\"Sentiment with Confidence\", \"Sentiment with Emoji\", \"Sentiment Multilingual\", \n",
    "         \"Sentiment Over Time\", \"Sentiment Visualization\", \"Sentiment File Upload\"], \n",
    "        label=\"Choose a Feature\")\n",
    "\n",
    "    text_input = gr.Textbox(lines=4, label=\"Text Input (used for all except file upload)\")\n",
    "    file_input = gr.File(label=\"Upload .txt File\", file_types=[\".txt\"])\n",
    "\n",
    "    output_text = gr.Textbox(label=\"Output\")\n",
    "    output_img = gr.Image(label=\"Bar Chart (only for Visualization)\")\n",
    "\n",
    "    run_button = gr.Button(\"Analyze\")\n",
    "    run_button.click(fn=router, inputs=[text_input, file_input, feature_choice], outputs=[output_text, output_img])\n",
    "\n",
    "# Step 6: Launch the app in the notebook\n",
    "demo.launch()\n",
    "\n"
   ]
  },
  {
   "cell_type": "code",
   "execution_count": null,
   "id": "92d24c7e-2666-43d4-88b2-5a9f6ea1c28a",
   "metadata": {},
   "outputs": [],
   "source": []
  }
 ],
 "metadata": {
  "kernelspec": {
   "display_name": "Python 3 (ipykernel)",
   "language": "python",
   "name": "python3"
  },
  "language_info": {
   "codemirror_mode": {
    "name": "ipython",
    "version": 3
   },
   "file_extension": ".py",
   "mimetype": "text/x-python",
   "name": "python",
   "nbconvert_exporter": "python",
   "pygments_lexer": "ipython3",
   "version": "3.12.3"
  }
 },
 "nbformat": 4,
 "nbformat_minor": 5
}
